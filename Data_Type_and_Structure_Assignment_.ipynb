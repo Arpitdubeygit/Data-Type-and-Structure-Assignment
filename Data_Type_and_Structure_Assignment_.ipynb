{
  "nbformat": 4,
  "nbformat_minor": 0,
  "metadata": {
    "colab": {
      "provenance": []
    },
    "kernelspec": {
      "name": "python3",
      "display_name": "Python 3"
    },
    "language_info": {
      "name": "python"
    }
  },
  "cells": [
    {
      "cell_type": "code",
      "execution_count": null,
      "metadata": {
        "id": "W7R7zowDmne-"
      },
      "outputs": [],
      "source": []
    },
    {
      "cell_type": "markdown",
      "source": [
        "Que1:-What are data structures, and why are they important?\n",
        "Ans1:-Data structures are ways to organize and store data so it can be used efficiently.\n",
        "Importance:\n",
        "Help in fast data access and processing\n",
        "Save memory and time\n",
        "Improve algorithm performance\n",
        "Essential for solving real-world problems in coding\n",
        "Example: Arrays, Linked Lists, Stacks, Queues, Trees, Graphs, Hash Tables."
      ],
      "metadata": {
        "id": "2CG6xyurm2VJ"
      }
    },
    {
      "cell_type": "markdown",
      "source": [
        "Que2:-  Explain the difference between mutable and immutable data types with examples.\n",
        "Ans2:-Difference Between Mutable and Immutable Data Types:\n",
        "Feature\tMutable\tImmutable\n",
        "Definition\tCan be changed after creation\tCannot be changed after creation\n",
        "Examples\tlist, dict, set\tint, float, str, tuple\n",
        "Behavior\tModifying changes the original\tModifying creates a new object.\n",
        "foe Example:-# Mutable\n",
        "a = [1, 2, 3]\n",
        "a.append(4)   # a becomes [1, 2, 3, 4]\n",
        "\n",
        "# Immutable\n",
        "b = \"hello\"\n",
        "b = b + \" world\"   # new string created, old one unchanged\n"
      ],
      "metadata": {
        "id": "TI-EHGKSnnmK"
      }
    },
    {
      "cell_type": "markdown",
      "source": [
        "Que3:-What are the main differences between lists and tuples in Python?\n",
        "Ans3:-Differences Between List and Tuple in Python (Short):\n",
        "Feature\tList\tTuple\n",
        "Syntax\t[] (square brackets)\t() (parentheses)\n",
        "Mutability\tMutable (can be changed)\tImmutable (cannot be changed)\n",
        "Performance\tSlower\tFaster (due to immutability)\n",
        "Use Case\tWhen data may change\tWhen data should not change.\n",
        "foe Example:-\n",
        "my_list = [1, 2, 3]\n",
        "my_tuple = (1, 2, 3)\n",
        "\n"
      ],
      "metadata": {
        "id": "J0ZFjWrcogPI"
      }
    },
    {
      "cell_type": "markdown",
      "source": [
        "Que4:-Describe how dictionaries store data?\n",
        "Ans4:-How Dictionaries Store Data (Short):\n",
        "Dictionaries store data as key-value pairs using a hash table.\n",
        "\n",
        "Each key is hashed to find its location in memory.\n",
        "\n",
        "Keys must be unique and immutable.\n",
        "\n",
        "Values can be of any type."
      ],
      "metadata": {
        "id": "ACX9DHj7o-WD"
      }
    },
    {
      "cell_type": "markdown",
      "source": [
        "Que5:- Why might you use a set instead of a list in Python?\n",
        "Ans5:-\n",
        "Reason\tExplanation\n",
        "No Duplicates\tSets automatically remove duplicates\n",
        "Faster Lookup\tSets use hashing → faster in checks\n",
        "Set Operations\tSupports union, intersection, difference"
      ],
      "metadata": {
        "id": "-zSvlAyvpYay"
      }
    },
    {
      "cell_type": "markdown",
      "source": [
        "Que6:- What is a string in Python, and how is it different from a list?\n",
        "Ans6:-A string is a sequence of characters enclosed in quotes (' ' or \" \").\n",
        "Example:\n",
        "s = \"Hello\"\n",
        "String:\n",
        "A string is a sequence of characters enclosed in quotes. It is immutable, used for handling text.\n",
        "Example: \"hello\"\n",
        "\n",
        "List:\n",
        "A list is a collection of items (of any type) enclosed in square brackets. It is mutable, used for storing multiple values.\n",
        "Example: [\"h\", \"e\", \"l\", \"l\", \"o\"]\n"
      ],
      "metadata": {
        "id": "Y8XFipiZqH3g"
      }
    },
    {
      "cell_type": "markdown",
      "source": [
        "Que7:-How do tuples ensure data integrity in Python?\n",
        "Ans7:-\n",
        "Tuples are immutable, meaning their values cannot be changed after creation.\n",
        "This prevents accidental modification, ensuring the data stays constant and secure.\n",
        "\n",
        "Example:\n",
        "data = (101, \"Arpit\", \"CS\")"
      ],
      "metadata": {
        "id": "-PmVqmIDrOji"
      }
    },
    {
      "cell_type": "markdown",
      "source": [
        "Que8:-What is a hash table, and how does it relate to dictionaries in Python?\n",
        "Ans8:-A hash table is a data structure that stores key-value pairs using a hash function to quickly find the value based on the key.\n",
        "\n",
        "Relation to Dictionaries in Python:\n",
        "Python's dictionaries are built using hash tables.\n",
        "\n",
        "The key is hashed to get an index.\n",
        "\n",
        "The value is stored at that index for fast lookup."
      ],
      "metadata": {
        "id": "8IrjMHFCrsvX"
      }
    },
    {
      "cell_type": "markdown",
      "source": [
        "Que9:- Can lists contain different data types in Python?\n",
        "Ans9:-Yes, Python lists can store multiple data types in a single list.\n",
        "\n",
        "Example:\n",
        "mixed = [1, \"hello\", 3.14, True]"
      ],
      "metadata": {
        "id": "bnj9wBj7sLJG"
      }
    },
    {
      "cell_type": "markdown",
      "source": [
        "Que10:-Explain why strings are immutable in Python.\n",
        "Ans10:-Strings are immutable to ensure:\n",
        "\n",
        "Memory efficiency (shared string storage)\n",
        "\n",
        "Data safety (avoid accidental changes)\n",
        "\n",
        "Hashing support (used as keys in dictionaries)\n",
        "\n",
        "Example:\n",
        "s = \"hello\"\n",
        "s[0] = \"H\""
      ],
      "metadata": {
        "id": "9r_qQqnusiw0"
      }
    },
    {
      "cell_type": "markdown",
      "source": [
        "Que11:- What advantages do dictionaries offer over lists for certain tasks?\n",
        "Ans11:-1. Fast Access:\n",
        "Dictionaries use keys and hashing, so data can be accessed quickly (O(1) time).\n",
        "Lists require searching by index or value, which is slower.\n",
        "\n",
        "2. Key-Value Pair Storage:\n",
        "Dictionaries store data in key-value form, making it easy to label and access data.\n",
        "Lists only store values with numeric indexes.\n",
        "\n",
        "3. Better for Lookups:\n",
        "For tasks like searching, dictionaries are more efficient than lists."
      ],
      "metadata": {
        "id": "ReFQzqaQs6va"
      }
    },
    {
      "cell_type": "markdown",
      "source": [
        "Que12:- Describe a scenario where using a tuple would be preferable over a list?\n",
        "Ans12:-Scenario Where Tuple is Better Than List (Short):\n",
        "Use a tuple when you want to store fixed, unchangeable data.\n",
        "\n",
        "Example:\n",
        "Storing coordinates or a date:\n",
        "\n",
        "python\n",
        "Copy\n",
        "Edit\n",
        "location = (27.7, 85.3)   # Tuple for latitude & longitude\n",
        "Why:\n",
        "\n",
        "Data should not change\n",
        "\n",
        "Safer and faster than a list\n",
        "\n"
      ],
      "metadata": {
        "id": "DvA2L3NStffq"
      }
    },
    {
      "cell_type": "markdown",
      "source": [
        "Que13:- How do sets handle duplicate values in Python?\n",
        "Ans13:-Sets automatically remove duplicate values.\n",
        "They store only unique elements.\n",
        "\n",
        "Example:\n",
        "s = {1, 2, 2, 3}\n",
        "print(s)  # Output: {1, 2, 3}"
      ],
      "metadata": {
        "id": "9bjWFsZRuAPJ"
      }
    },
    {
      "cell_type": "markdown",
      "source": [
        "Que14:- How does the “in” keyword work differently for lists and dictionaries?\n",
        "Ans14:-In Lists:\n",
        "The in keyword checks if a value exists in the list.\n",
        "Example:\n",
        "nums = [1, 2, 3]\n",
        "print(2 in nums)  # True\n",
        "In Dictionaries:\n",
        "The in keyword checks if a key exists in the dictionary (not the value).\n",
        "Example:\n",
        "student = {\"name\": \"Arpit\", \"age\": 20}\n",
        "print(\"name\" in student)  # True\n",
        "print(20 in student)      # False"
      ],
      "metadata": {
        "id": "Tgq3TAmauUWi"
      }
    },
    {
      "cell_type": "markdown",
      "source": [
        "Que15:-Can you modify the elements of a tuple? Explain why or why not?\n",
        "Ans15:-No, you cannot modify the elements of a tuple.\n",
        "\n",
        "Why?\n",
        "Because tuples are immutable — once created, their values cannot be changed.\n",
        "\n",
        "Example:\n",
        "t = (1, 2, 3)\n",
        "t[0] = 10  # ❌"
      ],
      "metadata": {
        "id": "nIK6DR7Aus_H"
      }
    },
    {
      "cell_type": "markdown",
      "source": [
        "Que16:- What is a nested dictionary, and give an example of its use case?\n",
        "Ans16:-A nested dictionary is a dictionary inside another dictionary.\n",
        "\n",
        "Use Case:\n",
        "Storing structured data, like student records.\n",
        "\n",
        "Example:\n",
        "students = {\n",
        "  \"101\": {\"name\": \"Arpit\", \"age\": 20},\n",
        "  \"102\": {\"name\": \"Riya\", \"age\": 21}\n",
        "}"
      ],
      "metadata": {
        "id": "8zmAxdohvBf6"
      }
    },
    {
      "cell_type": "markdown",
      "source": [
        "Que17:- Describe the time complexity of accessing elements in a dictionary.\n",
        "Ans17:-Time Complexity of Accessing Elements in a Dictionary (Short):\n",
        "Accessing elements in a dictionary has average-case time complexity of O(1) due to hashing.\n",
        "\n",
        "Example:\n",
        "data = {\"a\": 1, \"b\": 2}\n",
        "print(data[\"b\"])  # O(1) access"
      ],
      "metadata": {
        "id": "3KNP2zfovZBW"
      }
    },
    {
      "cell_type": "markdown",
      "source": [
        "Que18:- In what situations are lists preferred over dictionaries.\n",
        "Ans18:-When Lists Are Preferred Over Dictionaries (Short):\n",
        "When order of items matters\n",
        "\n",
        "When storing simple sequences of values\n",
        "\n",
        "When keys are not needed\n",
        "\n",
        "For iterating over data in a fixed order\n",
        "\n",
        "Example:\n",
        "marks = [85, 90, 78]  #"
      ],
      "metadata": {
        "id": "nXjfKFlCvxiV"
      }
    },
    {
      "cell_type": "markdown",
      "source": [
        "Que19:- Why are dictionaries considered unordered, and how does that affect data retrieval?\n",
        "Ans19:-Earlier in Python (<3.7), dictionaries were unordered, meaning items had no fixed order.\n",
        "\n",
        "From Python 3.7+, they preserve insertion order, but still behave logically unordered, as order isn't guaranteed for logic.\n",
        "\n",
        "Effect on Data Retrieval:\n",
        "You access by key, not by position\n",
        "\n",
        "Can't rely on order like in lists\n",
        "\n"
      ],
      "metadata": {
        "id": "Ed68B0rAwGqT"
      }
    },
    {
      "cell_type": "markdown",
      "source": [
        "Que20:-Explain the difference between a list and a dictionary in terms of data retrieval.\n",
        "Ans20:-Difference Between List and Dictionary in Data Retrieval\n",
        "List:\n",
        "\n",
        "Data is accessed using indexes (like list[0]).\n",
        "\n",
        "Slower for searching specific values (O(n) time).\n",
        "\n",
        "Best for ordered collections where position matters.\n",
        "\n",
        "Dictionary:\n",
        "\n",
        "Data is accessed using keys (like dict[\"name\"]).\n",
        "\n",
        "Much faster for lookups (O(1) time) due to hashing.\n",
        "\n",
        "Best for key-value data where quick access is needed."
      ],
      "metadata": {
        "id": "rjN9WgIuwmUX"
      }
    },
    {
      "cell_type": "markdown",
      "source": [
        "**Practical Questions**"
      ],
      "metadata": {
        "id": "t7GRo41Pw9qB"
      }
    },
    {
      "cell_type": "markdown",
      "source": [
        "Que1:-Write a code to create a string with your name and print it."
      ],
      "metadata": {
        "id": "2zo_P5-YxRuM"
      }
    },
    {
      "cell_type": "code",
      "source": [
        "name = \"Arpit Dubey\"\n",
        "print(name)"
      ],
      "metadata": {
        "colab": {
          "base_uri": "https://localhost:8080/"
        },
        "id": "w1EzMeLzxcDk",
        "outputId": "a38201a2-0e25-45e8-9342-e3e388aa633d"
      },
      "execution_count": 1,
      "outputs": [
        {
          "output_type": "stream",
          "name": "stdout",
          "text": [
            "Arpit Dubey\n"
          ]
        }
      ]
    },
    {
      "cell_type": "markdown",
      "source": [
        "Que2:- Write a code to find the length of the string \"Hello World\""
      ],
      "metadata": {
        "id": "imO1DVjoxv_h"
      }
    },
    {
      "cell_type": "code",
      "source": [
        "text = \"Hello World\"\n",
        "length = len(text)\n",
        "print(length)\n"
      ],
      "metadata": {
        "colab": {
          "base_uri": "https://localhost:8080/"
        },
        "id": "_bfgWzFJx4Os",
        "outputId": "87c3e27f-55e9-4591-85f7-f3a9f701daff"
      },
      "execution_count": 2,
      "outputs": [
        {
          "output_type": "stream",
          "name": "stdout",
          "text": [
            "11\n"
          ]
        }
      ]
    },
    {
      "cell_type": "markdown",
      "source": [
        "Que3:- Write a code to slice the first 3 characters from the string \"Python Programming\"."
      ],
      "metadata": {
        "id": "hptdx-smx_2m"
      }
    },
    {
      "cell_type": "code",
      "source": [
        "text = \"Python Programming\"\n",
        "sliced = text[:3]\n",
        "print(sliced)\n"
      ],
      "metadata": {
        "colab": {
          "base_uri": "https://localhost:8080/"
        },
        "id": "qKd65Y7dyLZ-",
        "outputId": "31c26a3a-d4f6-4324-b248-fcae4a57339e"
      },
      "execution_count": 3,
      "outputs": [
        {
          "output_type": "stream",
          "name": "stdout",
          "text": [
            "Pyt\n"
          ]
        }
      ]
    },
    {
      "cell_type": "markdown",
      "source": [
        "Que4:-Write a code to convert the string \"hello\" to uppercase."
      ],
      "metadata": {
        "id": "18g_ZBcGySR1"
      }
    },
    {
      "cell_type": "code",
      "source": [
        "text = \"hello\"\n",
        "upper_text = text.upper()\n",
        "print(upper_text)\n"
      ],
      "metadata": {
        "colab": {
          "base_uri": "https://localhost:8080/"
        },
        "id": "9s_Q0lHnyeJv",
        "outputId": "def19fab-7324-41a5-8587-e46a5d6cfa38"
      },
      "execution_count": 4,
      "outputs": [
        {
          "output_type": "stream",
          "name": "stdout",
          "text": [
            "HELLO\n"
          ]
        }
      ]
    },
    {
      "cell_type": "markdown",
      "source": [
        "Que5:-Write a code to replace the word \"apple\" with \"orange\" in the string \"I like apple\"."
      ],
      "metadata": {
        "id": "jS9dbcMNyuQJ"
      }
    },
    {
      "cell_type": "code",
      "source": [
        "text = \"I like apple\"\n",
        "new_text = text.replace(\"apple\", \"orange\")\n",
        "print(new_text)\n"
      ],
      "metadata": {
        "colab": {
          "base_uri": "https://localhost:8080/"
        },
        "id": "enChIt-Xy1J0",
        "outputId": "ab9c7a66-9f3d-4a0c-ea93-ec87b9cc60f8"
      },
      "execution_count": 5,
      "outputs": [
        {
          "output_type": "stream",
          "name": "stdout",
          "text": [
            "I like orange\n"
          ]
        }
      ]
    },
    {
      "cell_type": "markdown",
      "source": [
        "Que6:- Write a code to create a list with numbers 1 to 5 and print it."
      ],
      "metadata": {
        "id": "yQYkRZVLy8Lw"
      }
    },
    {
      "cell_type": "code",
      "source": [
        "numbers = [1, 2, 3, 4, 5]\n",
        "print(numbers)\n"
      ],
      "metadata": {
        "colab": {
          "base_uri": "https://localhost:8080/"
        },
        "id": "QQD9-zLOzEv2",
        "outputId": "18ca8daf-48b4-465d-c236-195b11ddedc9"
      },
      "execution_count": 6,
      "outputs": [
        {
          "output_type": "stream",
          "name": "stdout",
          "text": [
            "[1, 2, 3, 4, 5]\n"
          ]
        }
      ]
    },
    {
      "cell_type": "markdown",
      "source": [
        "Que7:- Write a code to append the number 10 to the list [1, 2, 3, 4]."
      ],
      "metadata": {
        "id": "7sdwmecEzLtz"
      }
    },
    {
      "cell_type": "code",
      "source": [
        "numbers = [1, 2, 3, 4]\n",
        "numbers.append(10)\n",
        "print(numbers)\n"
      ],
      "metadata": {
        "colab": {
          "base_uri": "https://localhost:8080/"
        },
        "id": "cba9NwA9zTUM",
        "outputId": "d2993e2a-7886-47e6-e994-8193242d879c"
      },
      "execution_count": 7,
      "outputs": [
        {
          "output_type": "stream",
          "name": "stdout",
          "text": [
            "[1, 2, 3, 4, 10]\n"
          ]
        }
      ]
    },
    {
      "cell_type": "markdown",
      "source": [
        "Que8:- Write a code to remove the number 3 from the list [1, 2, 3, 4, 5]"
      ],
      "metadata": {
        "id": "SVHMUooHzZNj"
      }
    },
    {
      "cell_type": "code",
      "source": [
        "numbers = [1, 2, 3, 4, 5]\n",
        "numbers.remove(3)\n",
        "print(numbers)\n"
      ],
      "metadata": {
        "colab": {
          "base_uri": "https://localhost:8080/"
        },
        "id": "fTHFfQ-CzhVG",
        "outputId": "f22b3b81-4210-478f-84cd-fb82a8dba1fd"
      },
      "execution_count": 8,
      "outputs": [
        {
          "output_type": "stream",
          "name": "stdout",
          "text": [
            "[1, 2, 4, 5]\n"
          ]
        }
      ]
    },
    {
      "cell_type": "markdown",
      "source": [
        "Que9:- Write a code to access the second element in the list ['a', 'b', 'c', 'd']\n"
      ],
      "metadata": {
        "id": "CKiTPuKLzm_0"
      }
    },
    {
      "cell_type": "code",
      "source": [
        "letters = ['a', 'b', 'c', 'd']\n",
        "second_element = letters[1]\n",
        "print(second_element)\n"
      ],
      "metadata": {
        "colab": {
          "base_uri": "https://localhost:8080/"
        },
        "id": "XKajup4hzsoS",
        "outputId": "3836f3e5-1b2b-49fc-c9c7-3085f5961b91"
      },
      "execution_count": 9,
      "outputs": [
        {
          "output_type": "stream",
          "name": "stdout",
          "text": [
            "b\n"
          ]
        }
      ]
    },
    {
      "cell_type": "markdown",
      "source": [
        "Que10:-Write a code to reverse the list [10, 20, 30, 40, 50]."
      ],
      "metadata": {
        "id": "9swuT-dnzylK"
      }
    },
    {
      "cell_type": "code",
      "source": [
        "numbers = [10, 20, 30, 40, 50]\n",
        "numbers.reverse()\n",
        "print(numbers)\n"
      ],
      "metadata": {
        "colab": {
          "base_uri": "https://localhost:8080/"
        },
        "id": "j_NUQqbrz4Lz",
        "outputId": "be70d9b2-7182-4072-cd21-f6e504f33ed1"
      },
      "execution_count": 10,
      "outputs": [
        {
          "output_type": "stream",
          "name": "stdout",
          "text": [
            "[50, 40, 30, 20, 10]\n"
          ]
        }
      ]
    },
    {
      "cell_type": "markdown",
      "source": [
        "Que11:- Write a code to create a tuple with the elements 100, 200, 300 and print it."
      ],
      "metadata": {
        "id": "WCsaKXUx0BUm"
      }
    },
    {
      "cell_type": "code",
      "source": [
        "my_tuple = (100, 200, 300)\n",
        "print(my_tuple)\n"
      ],
      "metadata": {
        "colab": {
          "base_uri": "https://localhost:8080/"
        },
        "id": "MakB7Wdr0I3y",
        "outputId": "b8e7e92a-eb3f-442e-e768-6e8a652251c2"
      },
      "execution_count": 11,
      "outputs": [
        {
          "output_type": "stream",
          "name": "stdout",
          "text": [
            "(100, 200, 300)\n"
          ]
        }
      ]
    },
    {
      "cell_type": "markdown",
      "source": [
        "Que12:-. Write a code to access the second-to-last element of the tuple ('red', 'green', 'blue', 'yellow')."
      ],
      "metadata": {
        "id": "9Q5PwGZg0Q5z"
      }
    },
    {
      "cell_type": "code",
      "source": [
        "colors = ('red', 'green', 'blue', 'yellow')\n",
        "second_last = colors[-2]\n",
        "print(second_last)\n"
      ],
      "metadata": {
        "colab": {
          "base_uri": "https://localhost:8080/"
        },
        "id": "gS2hsL8e0XIv",
        "outputId": "c5d89443-fdf0-4638-ec1c-14abe2c7523e"
      },
      "execution_count": 12,
      "outputs": [
        {
          "output_type": "stream",
          "name": "stdout",
          "text": [
            "blue\n"
          ]
        }
      ]
    },
    {
      "cell_type": "markdown",
      "source": [
        "Que13:- Write a code to find the minimum number in the tuple (10, 20, 5, 15)."
      ],
      "metadata": {
        "id": "V5QtUGOt0cgl"
      }
    },
    {
      "cell_type": "code",
      "source": [
        "numbers = (10, 20, 5, 15)\n",
        "min_number = min(numbers)\n",
        "print(min_number)\n"
      ],
      "metadata": {
        "colab": {
          "base_uri": "https://localhost:8080/"
        },
        "id": "cNTL4rJN0iXc",
        "outputId": "a4eb9568-0893-474d-932c-71c7642be583"
      },
      "execution_count": 13,
      "outputs": [
        {
          "output_type": "stream",
          "name": "stdout",
          "text": [
            "5\n"
          ]
        }
      ]
    },
    {
      "cell_type": "markdown",
      "source": [
        "Que14:- Write a code to find the index of the element \"cat\" in the tuple ('dog', 'cat', 'rabbit')."
      ],
      "metadata": {
        "id": "Rl5UZh3x0o6O"
      }
    },
    {
      "cell_type": "code",
      "source": [
        "animals = ('dog', 'cat', 'rabbit')\n",
        "index = animals.index(\"cat\")\n",
        "print(index)\n"
      ],
      "metadata": {
        "colab": {
          "base_uri": "https://localhost:8080/"
        },
        "id": "uyK_eRIq0waq",
        "outputId": "49642d38-a803-4c7f-f3a2-ea4ba95a460e"
      },
      "execution_count": 14,
      "outputs": [
        {
          "output_type": "stream",
          "name": "stdout",
          "text": [
            "1\n"
          ]
        }
      ]
    },
    {
      "cell_type": "markdown",
      "source": [
        "Que15:- Write a code to create a tuple containing three different fruits and check if \"kiwi\" is in it."
      ],
      "metadata": {
        "id": "xIRhL0fR020i"
      }
    },
    {
      "cell_type": "code",
      "source": [
        "fruits = (\"apple\", \"banana\", \"mango\")\n",
        "is_kiwi_present = \"kiwi\" in fruits\n",
        "print(is_kiwi_present)\n"
      ],
      "metadata": {
        "colab": {
          "base_uri": "https://localhost:8080/"
        },
        "id": "W7Qq0TeN08Ca",
        "outputId": "77b6f119-1975-4b59-88f4-b286e39d1bd1"
      },
      "execution_count": 15,
      "outputs": [
        {
          "output_type": "stream",
          "name": "stdout",
          "text": [
            "False\n"
          ]
        }
      ]
    },
    {
      "cell_type": "markdown",
      "source": [
        "Que16:-. Write a code to create a set with the elements 'a', 'b', 'c' and print it."
      ],
      "metadata": {
        "id": "OWagtebT1C4q"
      }
    },
    {
      "cell_type": "code",
      "source": [
        "my_set = {'a', 'b', 'c'}\n",
        "print(my_set)\n"
      ],
      "metadata": {
        "colab": {
          "base_uri": "https://localhost:8080/"
        },
        "id": "7REufmiD1OWL",
        "outputId": "6672d13a-8265-422b-b8d7-a98e5fdb3b25"
      },
      "execution_count": 16,
      "outputs": [
        {
          "output_type": "stream",
          "name": "stdout",
          "text": [
            "{'a', 'b', 'c'}\n"
          ]
        }
      ]
    },
    {
      "cell_type": "markdown",
      "source": [
        "Que17:-Write a code to clear all elements from the set {1, 2, 3, 4, 5}."
      ],
      "metadata": {
        "id": "7RqtxGeF1VCU"
      }
    },
    {
      "cell_type": "code",
      "source": [
        "my_set = {1, 2, 3, 4, 5}\n",
        "my_set.clear()\n",
        "print(my_set)\n"
      ],
      "metadata": {
        "colab": {
          "base_uri": "https://localhost:8080/"
        },
        "id": "eBcCSxfk1c0V",
        "outputId": "8951c295-3cda-479f-8d2b-96ecabbeebfb"
      },
      "execution_count": 17,
      "outputs": [
        {
          "output_type": "stream",
          "name": "stdout",
          "text": [
            "set()\n"
          ]
        }
      ]
    },
    {
      "cell_type": "markdown",
      "source": [
        "Que18:-Write a code to remove the element 4 from the set {1, 2, 3, 4}."
      ],
      "metadata": {
        "id": "vUGvFDol1h5N"
      }
    },
    {
      "cell_type": "code",
      "source": [
        "my_set = {1, 2, 3, 4}\n",
        "my_set.remove(4)\n",
        "print(my_set)\n"
      ],
      "metadata": {
        "colab": {
          "base_uri": "https://localhost:8080/"
        },
        "id": "wkekAjRg1o5a",
        "outputId": "61d8a38a-3ac6-4496-974c-8da0e18a2450"
      },
      "execution_count": 18,
      "outputs": [
        {
          "output_type": "stream",
          "name": "stdout",
          "text": [
            "{1, 2, 3}\n"
          ]
        }
      ]
    },
    {
      "cell_type": "markdown",
      "source": [
        "Que19:- Write a code to find the union of two sets {1, 2, 3} and {3, 4, 5}."
      ],
      "metadata": {
        "id": "J5x6HMW01vXP"
      }
    },
    {
      "cell_type": "code",
      "source": [
        "set1 = {1, 2, 3}\n",
        "set2 = {3, 4, 5}\n",
        "union_result = set1 | set2  # Using '|' operator\n",
        "print(union_result)\n"
      ],
      "metadata": {
        "colab": {
          "base_uri": "https://localhost:8080/"
        },
        "id": "mFVwRWW_2G30",
        "outputId": "369634c3-60f4-4e75-f40f-3819c0886d0a"
      },
      "execution_count": 19,
      "outputs": [
        {
          "output_type": "stream",
          "name": "stdout",
          "text": [
            "{1, 2, 3, 4, 5}\n"
          ]
        }
      ]
    },
    {
      "cell_type": "markdown",
      "source": [
        "Que20:- Write a code to find the intersection of two sets {1, 2, 3} and {2, 3, 4}."
      ],
      "metadata": {
        "id": "vC4LCnDK2OKf"
      }
    },
    {
      "cell_type": "code",
      "source": [
        "set1 = {1, 2, 3}\n",
        "set2 = {2, 3, 4}\n",
        "intersection_result = set1 & set2  # Using '&' operator\n",
        "print(intersection_result)\n"
      ],
      "metadata": {
        "colab": {
          "base_uri": "https://localhost:8080/"
        },
        "id": "Dnc4-R0O2Uhj",
        "outputId": "e064e923-de39-4a6a-f1fe-28a95e0678ee"
      },
      "execution_count": 20,
      "outputs": [
        {
          "output_type": "stream",
          "name": "stdout",
          "text": [
            "{2, 3}\n"
          ]
        }
      ]
    },
    {
      "cell_type": "markdown",
      "source": [
        "Que21:-. Write a code to create a dictionary with the keys \"name\", \"age\", and \"city\", and print it."
      ],
      "metadata": {
        "id": "HOPyL-Jk2dXv"
      }
    },
    {
      "cell_type": "code",
      "source": [
        "person = {\n",
        "    \"name\": \"Arpit\",\n",
        "    \"age\": 20,\n",
        "    \"city\": \"Lucknow\"\n",
        "}\n",
        "print(person)\n"
      ],
      "metadata": {
        "colab": {
          "base_uri": "https://localhost:8080/"
        },
        "id": "Jt_5lDOW2jeQ",
        "outputId": "940d97c1-e2d7-42ce-9582-9426476a5187"
      },
      "execution_count": 21,
      "outputs": [
        {
          "output_type": "stream",
          "name": "stdout",
          "text": [
            "{'name': 'Arpit', 'age': 20, 'city': 'Lucknow'}\n"
          ]
        }
      ]
    },
    {
      "cell_type": "markdown",
      "source": [
        "Que22:- Write a code to add a new key-value pair \"country\": \"USA\" to the dictionary {'name': 'John', 'age': 25}."
      ],
      "metadata": {
        "id": "FmdFTOq52t5f"
      }
    },
    {
      "cell_type": "code",
      "source": [
        "person = {'name': 'John', 'age': 25}\n",
        "person['country'] = 'USA'\n",
        "print(person)\n"
      ],
      "metadata": {
        "colab": {
          "base_uri": "https://localhost:8080/"
        },
        "id": "czs4sj86207l",
        "outputId": "fe318305-b9aa-475f-ae6c-2ff7cf6553ae"
      },
      "execution_count": 22,
      "outputs": [
        {
          "output_type": "stream",
          "name": "stdout",
          "text": [
            "{'name': 'John', 'age': 25, 'country': 'USA'}\n"
          ]
        }
      ]
    },
    {
      "cell_type": "markdown",
      "source": [
        "Que23:- Write a code to access the value associated with the key \"name\" in the dictionary {'name': 'Alice', 'age': 30}"
      ],
      "metadata": {
        "id": "V_SoDgKs27Wz"
      }
    },
    {
      "cell_type": "code",
      "source": [
        "person = {'name': 'Alice', 'age': 30}\n",
        "print(person['name'])\n"
      ],
      "metadata": {
        "colab": {
          "base_uri": "https://localhost:8080/"
        },
        "id": "GSK5p2e33AGa",
        "outputId": "0f18d958-c027-470a-b18b-412a41936bb0"
      },
      "execution_count": 23,
      "outputs": [
        {
          "output_type": "stream",
          "name": "stdout",
          "text": [
            "Alice\n"
          ]
        }
      ]
    },
    {
      "cell_type": "markdown",
      "source": [
        "Que24:-Write a code to remove the key \"age\" from the dictionary {'name': 'Bob', 'age': 22, 'city': 'New York'}."
      ],
      "metadata": {
        "id": "h0jvEjak3GPx"
      }
    },
    {
      "cell_type": "code",
      "source": [
        "person = {'name': 'Bob', 'age': 22, 'city': 'New York'}\n",
        "person.pop('age')\n",
        "print(person)\n"
      ],
      "metadata": {
        "colab": {
          "base_uri": "https://localhost:8080/"
        },
        "id": "DdD2MWNl3L9k",
        "outputId": "601162a2-3a26-436a-9863-60bb6b3fcfc6"
      },
      "execution_count": 24,
      "outputs": [
        {
          "output_type": "stream",
          "name": "stdout",
          "text": [
            "{'name': 'Bob', 'city': 'New York'}\n"
          ]
        }
      ]
    },
    {
      "cell_type": "markdown",
      "source": [
        "Que25:- Write a code to check if the key \"city\" exists in the dictionary {'name': 'Alice', 'city': 'Paris'}."
      ],
      "metadata": {
        "id": "TYVjI3qs3SmW"
      }
    },
    {
      "cell_type": "code",
      "source": [
        "person = {'name': 'Alice', 'city': 'Paris'}\n",
        "print('city' in person)\n"
      ],
      "metadata": {
        "colab": {
          "base_uri": "https://localhost:8080/"
        },
        "id": "gTcM7-yQ3Y81",
        "outputId": "e852141b-7cd3-4702-a1e3-276379e8aa62"
      },
      "execution_count": 25,
      "outputs": [
        {
          "output_type": "stream",
          "name": "stdout",
          "text": [
            "True\n"
          ]
        }
      ]
    },
    {
      "cell_type": "markdown",
      "source": [
        "Que26:-Write a code to create a list, a tuple, and a dictionary, and print them all."
      ],
      "metadata": {
        "id": "Xruln3On3fjw"
      }
    },
    {
      "cell_type": "code",
      "source": [
        "# Create a list\n",
        "my_list = [10, 20, 30]\n",
        "\n",
        "# Create a tuple\n",
        "my_tuple = ('red', 'green', 'blue')\n",
        "\n",
        "# Create a dictionary\n",
        "my_dict = {'fruit': 'apple', 'color': 'red'}\n",
        "\n",
        "# Print all\n",
        "print(\"List:\", my_list)\n",
        "print(\"Tuple:\", my_tuple)\n",
        "print(\"Dictionary:\", my_dict)\n"
      ],
      "metadata": {
        "colab": {
          "base_uri": "https://localhost:8080/"
        },
        "id": "AScBLpsW3sr1",
        "outputId": "ec0278f3-564c-4317-c370-fe59aa8accb9"
      },
      "execution_count": 27,
      "outputs": [
        {
          "output_type": "stream",
          "name": "stdout",
          "text": [
            "List: [10, 20, 30]\n",
            "Tuple: ('red', 'green', 'blue')\n",
            "Dictionary: {'fruit': 'apple', 'color': 'red'}\n"
          ]
        }
      ]
    },
    {
      "cell_type": "markdown",
      "source": [
        "Que27:-. Write a code to create a list of 5 random numbers between 1 and 100, sort it in ascending order, and print the\n",
        "result.(replaced)."
      ],
      "metadata": {
        "id": "sSb3fspf330B"
      }
    },
    {
      "cell_type": "code",
      "source": [
        "import random\n",
        "\n",
        "# Generate list of 5 random numbers\n",
        "random_numbers = random.sample(range(1, 101), 5)\n",
        "\n",
        "# Sort the list in ascending order\n",
        "random_numbers.sort()\n",
        "\n",
        "# Print the result\n",
        "print(\"Sorted Random Numbers:\", random_numbers)\n"
      ],
      "metadata": {
        "colab": {
          "base_uri": "https://localhost:8080/"
        },
        "id": "aKPT3PaE39e0",
        "outputId": "c94bd2a5-6096-4156-848b-c452ba283704"
      },
      "execution_count": 28,
      "outputs": [
        {
          "output_type": "stream",
          "name": "stdout",
          "text": [
            "Sorted Random Numbers: [11, 36, 64, 73, 91]\n"
          ]
        }
      ]
    },
    {
      "cell_type": "markdown",
      "source": [
        "Que28:- Write a code to create a list with strings and print the element at the third index."
      ],
      "metadata": {
        "id": "3LimfGNG4D2C"
      }
    },
    {
      "cell_type": "code",
      "source": [
        "words = [\"apple\", \"banana\", \"cherry\", \"date\", \"elderberry\"]\n",
        "print(words[3])  # Index starts from 0\n"
      ],
      "metadata": {
        "colab": {
          "base_uri": "https://localhost:8080/"
        },
        "id": "jm1s6Mkz4J1b",
        "outputId": "813f29d7-138c-4f81-c8b4-5ebb59faa52f"
      },
      "execution_count": 29,
      "outputs": [
        {
          "output_type": "stream",
          "name": "stdout",
          "text": [
            "date\n"
          ]
        }
      ]
    },
    {
      "cell_type": "markdown",
      "source": [
        "Que29:- Write a code to combine two dictionaries into one and print the result."
      ],
      "metadata": {
        "id": "J4tAJp7O4Qmc"
      }
    },
    {
      "cell_type": "code",
      "source": [
        "dict1 = {'a': 1, 'b': 2}\n",
        "dict2 = {'c': 3, 'd': 4}\n",
        "\n",
        "# Combine using unpacking (Python 3.5+)\n",
        "combined_dict = {**dict1, **dict2}\n",
        "\n",
        "print(combined_dict)\n"
      ],
      "metadata": {
        "colab": {
          "base_uri": "https://localhost:8080/"
        },
        "id": "KETRn9en4XJY",
        "outputId": "7e0dc7e8-e8af-41f2-ab2e-cf8f97ea8fa9"
      },
      "execution_count": 30,
      "outputs": [
        {
          "output_type": "stream",
          "name": "stdout",
          "text": [
            "{'a': 1, 'b': 2, 'c': 3, 'd': 4}\n"
          ]
        }
      ]
    },
    {
      "cell_type": "markdown",
      "source": [
        "Que30:- Write a code to convert a list of strings into a set."
      ],
      "metadata": {
        "id": "wGJHXhk24diW"
      }
    },
    {
      "cell_type": "code",
      "source": [
        "string_list = [\"apple\", \"banana\", \"cherry\", \"apple\"]\n",
        "string_set = set(string_list)\n",
        "print(string_set)\n"
      ],
      "metadata": {
        "colab": {
          "base_uri": "https://localhost:8080/"
        },
        "id": "q_ue-w0Y4jLA",
        "outputId": "be77f210-e868-4535-ea78-88887b75fecc"
      },
      "execution_count": 31,
      "outputs": [
        {
          "output_type": "stream",
          "name": "stdout",
          "text": [
            "{'apple', 'banana', 'cherry'}\n"
          ]
        }
      ]
    }
  ]
}